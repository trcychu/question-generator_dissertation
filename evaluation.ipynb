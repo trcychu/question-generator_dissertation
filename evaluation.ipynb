{
 "cells": [
  {
   "cell_type": "code",
   "execution_count": 1,
   "metadata": {},
   "outputs": [],
   "source": [
    "# import torch\n",
    "# import spacy\n",
    "# import en_core_web_sm\n",
    "# import transformers\n",
    "import pandas as pd\n",
    "import numpy as np\n",
    "from sklearn.model_selection import train_test_split"
   ]
  },
  {
   "cell_type": "markdown",
   "metadata": {},
   "source": [
    "# find the validation set data"
   ]
  },
  {
   "cell_type": "code",
   "execution_count": 2,
   "metadata": {},
   "outputs": [],
   "source": [
    "data=pd.read_csv(\"data_v4.csv\",encoding=\"utf=8\")\n",
    "\n",
    "data.dropna(inplace=True)\n",
    "data=data.drop_duplicates()\n",
    "data[\"context\"]=data[\"context\"].apply(lambda x: x.replace(\"\\n\",\"\"))\n",
    "data[\"context_len\"]=data[\"context\"].apply(lambda x: len(x))\n",
    "data=data.drop(data[data[\"context_len\"]>512].index)\n"
   ]
  },
  {
   "cell_type": "code",
   "execution_count": 3,
   "metadata": {},
   "outputs": [],
   "source": [
    "texts = []\n",
    "questions = []\n",
    "for idx, row in data.iterrows():\n",
    "    texts.append(row['context'].strip())\n",
    "    questions.append(row['questions'].strip())\n",
    "train_texts, val_texts, train_questions, val_questions = train_test_split(\n",
    "    texts, questions, test_size=0.1, random_state=2)"
   ]
  },
  {
   "cell_type": "code",
   "execution_count": 4,
   "metadata": {},
   "outputs": [
    {
     "data": {
      "text/plain": [
       "2196"
      ]
     },
     "execution_count": 4,
     "metadata": {},
     "output_type": "execute_result"
    }
   ],
   "source": [
    "len(data)"
   ]
  },
  {
   "cell_type": "code",
   "execution_count": 5,
   "metadata": {},
   "outputs": [
    {
     "data": {
      "text/plain": [
       "1976"
      ]
     },
     "execution_count": 5,
     "metadata": {},
     "output_type": "execute_result"
    }
   ],
   "source": [
    "len(train_texts)"
   ]
  },
  {
   "cell_type": "code",
   "execution_count": 6,
   "metadata": {
    "scrolled": true
   },
   "outputs": [
    {
     "data": {
      "text/plain": [
       "220"
      ]
     },
     "execution_count": 6,
     "metadata": {},
     "output_type": "execute_result"
    }
   ],
   "source": [
    "len(val_texts)"
   ]
  },
  {
   "cell_type": "markdown",
   "metadata": {},
   "source": [
    "#  result val_data before fine tune"
   ]
  },
  {
   "cell_type": "code",
   "execution_count": 7,
   "metadata": {},
   "outputs": [],
   "source": [
    "t5_before=pd.read_csv(\"result_t5_before_val.csv\",encoding=\"utf=8\")\n",
    "bart_before=pd.read_csv(\"result_bart_before_val.csv\",encoding=\"utf=8\")"
   ]
  },
  {
   "cell_type": "code",
   "execution_count": 8,
   "metadata": {},
   "outputs": [],
   "source": [
    "t5_before=t5_before.dropna()\n",
    "bart_before=bart_before.dropna()\n"
   ]
  },
  {
   "cell_type": "markdown",
   "metadata": {},
   "source": [
    "# result val_data after fine tune"
   ]
  },
  {
   "cell_type": "code",
   "execution_count": 9,
   "metadata": {},
   "outputs": [],
   "source": [
    "# # df1=pd.read_csv(\"result_t5_tune_v3_1.csv\",encoding=\"utf=8\")\n",
    "# # df2=pd.read_csv(\"result_t5_tune_v3_2.csv\",encoding=\"utf=8\")\n",
    "# # df3=pd.read_csv(\"result_t5_tune_v3_3.csv\",encoding=\"utf=8\")\n",
    "\n",
    "# t5=pd.concat([df1,df2,df3])\n",
    "# t5=t5[t5['context'].isin(val_texts)]"
   ]
  },
  {
   "cell_type": "code",
   "execution_count": 10,
   "metadata": {},
   "outputs": [],
   "source": [
    "# a=pd.concat([df1,df2,df3])\n",
    "# a=a.loc[a['context'].isin(val_texts),:]\n",
    "# a['context_len']=a[\"context\"].apply(lambda x: len(x))"
   ]
  },
  {
   "cell_type": "code",
   "execution_count": 11,
   "metadata": {},
   "outputs": [],
   "source": [
    "# df1=pd.read_csv(\"result_bart_v3_1.csv\",encoding=\"utf=8\")\n",
    "# df2=pd.read_csv(\"result_bart_v3_2.csv\",encoding=\"utf=8\")\n",
    "# df3=pd.read_csv(\"result_bart_v3_3.csv\",encoding=\"utf=8\")\n",
    "\n",
    "# bart=pd.concat([df1,df2,df3])\n",
    "# bart=bart[bart['context'].isin(val_texts)]"
   ]
  },
  {
   "cell_type": "code",
   "execution_count": 12,
   "metadata": {
    "scrolled": true
   },
   "outputs": [],
   "source": [
    "t5=pd.read_csv(\"result_t5_tune_val.csv\",encoding=\"utf=8\")\n",
    "bart=pd.read_csv(\"result_bart_tune_val.csv\",encoding=\"utf=8\")"
   ]
  },
  {
   "cell_type": "code",
   "execution_count": 13,
   "metadata": {},
   "outputs": [],
   "source": [
    "t5=t5.dropna()\n",
    "bart=bart.dropna()\n"
   ]
  },
  {
   "cell_type": "code",
   "execution_count": 14,
   "metadata": {},
   "outputs": [
    {
     "data": {
      "text/plain": [
       "175"
      ]
     },
     "execution_count": 14,
     "metadata": {},
     "output_type": "execute_result"
    }
   ],
   "source": [
    "len(bart)\n"
   ]
  },
  {
   "cell_type": "markdown",
   "metadata": {},
   "source": [
    "# add questions_original to compare the similarity of machine-generated questions and original questions"
   ]
  },
  {
   "cell_type": "code",
   "execution_count": 15,
   "metadata": {},
   "outputs": [],
   "source": [
    "data=data.rename(columns={'answers':'answers_original','questions':'questions_original'})"
   ]
  },
  {
   "cell_type": "code",
   "execution_count": 16,
   "metadata": {},
   "outputs": [],
   "source": [
    "t5 = pd.merge(t5,data,how='left',on=['context'])\n",
    "bart = pd.merge(bart,data,how='left',on=['context'])"
   ]
  },
  {
   "cell_type": "code",
   "execution_count": 17,
   "metadata": {},
   "outputs": [],
   "source": [
    "t5_before= pd.merge(t5_before,data,how='left',on=['context'])\n",
    "bart_before= pd.merge(bart_before,data,how='left',on=['context'])"
   ]
  },
  {
   "cell_type": "markdown",
   "metadata": {},
   "source": [
    "# BLEU"
   ]
  },
  {
   "cell_type": "code",
   "execution_count": 22,
   "metadata": {
    "scrolled": true
   },
   "outputs": [
    {
     "name": "stderr",
     "output_type": "stream",
     "text": [
      "[nltk_data] Downloading package punkt to /home/faculty/nltk_data...\n",
      "[nltk_data]   Package punkt is already up-to-date!\n"
     ]
    }
   ],
   "source": [
    "import nltk\n",
    "nltk.download('punkt')\n",
    "from nltk.translate.bleu_score import sentence_bleu, corpus_bleu\n",
    "from nltk.translate.bleu_score import SmoothingFunction"
   ]
  },
  {
   "cell_type": "code",
   "execution_count": 23,
   "metadata": {},
   "outputs": [],
   "source": [
    "def add_bleu(df):\n",
    "\n",
    "#     import nltk\n",
    "#     nltk.download('punkt')\n",
    "#     from nltk.translate.bleu_score import sentence_bleu, corpus_bleu\n",
    "#     from nltk.translate.bleu_score import SmoothingFunction\n",
    "    \n",
    "\n",
    "    df[\"questions_token\"]=df[\"questions\"].apply(lambda x: nltk.word_tokenize(str(x).rstrip('?:!.,;')))\n",
    "    df[\"questions_original_token\"]=df[\"questions_original\"].apply(lambda x: nltk.word_tokenize(str(x).rstrip('?:!.,;')))\n",
    "    \n",
    "    df[\"bleu1\"] = df.apply(lambda x: round(sentence_bleu([x[\"questions_token\"]],x[\"questions_original_token\"],\n",
    "                                       weights = (1,0,0,0),\n",
    "                                       smoothing_function=SmoothingFunction().method1),3), axis=1)\n",
    "#     df[\"bleu2\"] = df.apply(lambda x: round(sentence_bleu([x[\"questions_token\"]],x[\"questions_original_token\"],\n",
    "#                                        weights = (0,1,0,0),\n",
    "#                                        smoothing_function=SmoothingFunction().method1),3), axis=1)\n",
    "#     df[\"bleu3\"] = df.apply(lambda x: round(sentence_bleu([x[\"questions_token\"]],x[\"questions_original_token\"],\n",
    "#                                        weights = (0,0,1,0),\n",
    "#                                        smoothing_function=SmoothingFunction().method1),3), axis=1)\n",
    "#     df[\"bleu4\"] = df.apply(lambda x: round(sentence_bleu([x[\"questions_token\"]],x[\"questions_original_token\"],\n",
    "#                                        weights = (0,0,0,1),\n",
    "#                                        smoothing_function=SmoothingFunction().method1),3), axis=1)"
   ]
  },
  {
   "cell_type": "markdown",
   "metadata": {},
   "source": [
    "# rough"
   ]
  },
  {
   "cell_type": "code",
   "execution_count": 24,
   "metadata": {},
   "outputs": [],
   "source": [
    "def add_rouge(df):\n",
    "    from rouge import Rouge\n",
    "#     import nltk\n",
    "#     nltk.download('punkt')\n",
    "#     from nltk.translate.bleu_score import sentence_bleu, corpus_bleu\n",
    "#     from nltk.translate.bleu_score import SmoothingFunction\n",
    "    rouge = Rouge()\n",
    "    df[\"rouge1\"] = df.apply(lambda x: round(rouge.get_scores(str(x[\"questions\"]), str(x[\"questions_original\"]))[0]['rouge-1']['r'],3), axis=1)"
   ]
  },
  {
   "cell_type": "markdown",
   "metadata": {},
   "source": [
    "# meteor"
   ]
  },
  {
   "cell_type": "code",
   "execution_count": 25,
   "metadata": {},
   "outputs": [],
   "source": [
    "def add_meteor(df):\n",
    "    from nltk.translate.meteor_score import meteor_score\n",
    "    df[\"meteor\"] = df.apply(lambda x: round(meteor_score(str(x[\"questions\"]), str(x[\"questions_original\"])),3), axis=1)"
   ]
  },
  {
   "cell_type": "code",
   "execution_count": null,
   "metadata": {},
   "outputs": [],
   "source": []
  },
  {
   "cell_type": "markdown",
   "metadata": {},
   "source": [
    "# add BLEU,ROUGH,METEOR"
   ]
  },
  {
   "cell_type": "code",
   "execution_count": 26,
   "metadata": {
    "scrolled": false
   },
   "outputs": [],
   "source": [
    "add_bleu(t5_before)\n",
    "add_bleu(t5)\n",
    "add_rouge(t5_before)\n",
    "add_rouge(t5)\n",
    "add_meteor(t5_before)\n",
    "add_meteor(t5)\n",
    "\n",
    "\n",
    "add_bleu(bart_before)\n",
    "add_bleu(bart)\n",
    "add_rouge(bart_before)\n",
    "add_rouge(bart)\n",
    "add_meteor(bart_before)\n",
    "add_meteor(bart)"
   ]
  },
  {
   "cell_type": "code",
   "execution_count": null,
   "metadata": {},
   "outputs": [],
   "source": []
  },
  {
   "cell_type": "markdown",
   "metadata": {},
   "source": [
    "# compare fine tuned model on bleu, rouge,meteor"
   ]
  },
  {
   "cell_type": "code",
   "execution_count": 27,
   "metadata": {},
   "outputs": [
    {
     "data": {
      "text/html": [
       "<div>\n",
       "<style scoped>\n",
       "    .dataframe tbody tr th:only-of-type {\n",
       "        vertical-align: middle;\n",
       "    }\n",
       "\n",
       "    .dataframe tbody tr th {\n",
       "        vertical-align: top;\n",
       "    }\n",
       "\n",
       "    .dataframe thead th {\n",
       "        text-align: right;\n",
       "    }\n",
       "</style>\n",
       "<table border=\"1\" class=\"dataframe\">\n",
       "  <thead>\n",
       "    <tr style=\"text-align: right;\">\n",
       "      <th></th>\n",
       "      <th>t5.bleu1</th>\n",
       "      <th>bart.bleu1</th>\n",
       "      <th>t5.rouge1</th>\n",
       "      <th>bart.rouge1</th>\n",
       "      <th>t5.meteor</th>\n",
       "      <th>bart.meteor</th>\n",
       "    </tr>\n",
       "  </thead>\n",
       "  <tbody>\n",
       "    <tr>\n",
       "      <th>count</th>\n",
       "      <td>197.000000</td>\n",
       "      <td>197.000000</td>\n",
       "      <td>197.000000</td>\n",
       "      <td>197.000000</td>\n",
       "      <td>197.000000</td>\n",
       "      <td>197.000000</td>\n",
       "    </tr>\n",
       "    <tr>\n",
       "      <th>mean</th>\n",
       "      <td>0.405553</td>\n",
       "      <td>0.375853</td>\n",
       "      <td>0.407792</td>\n",
       "      <td>0.372051</td>\n",
       "      <td>0.057000</td>\n",
       "      <td>0.055244</td>\n",
       "    </tr>\n",
       "    <tr>\n",
       "      <th>std</th>\n",
       "      <td>0.252561</td>\n",
       "      <td>0.262783</td>\n",
       "      <td>0.282152</td>\n",
       "      <td>0.292173</td>\n",
       "      <td>0.104848</td>\n",
       "      <td>0.102978</td>\n",
       "    </tr>\n",
       "    <tr>\n",
       "      <th>min</th>\n",
       "      <td>0.000000</td>\n",
       "      <td>0.000000</td>\n",
       "      <td>0.000000</td>\n",
       "      <td>0.000000</td>\n",
       "      <td>0.000000</td>\n",
       "      <td>0.000000</td>\n",
       "    </tr>\n",
       "    <tr>\n",
       "      <th>25%</th>\n",
       "      <td>0.202000</td>\n",
       "      <td>0.111000</td>\n",
       "      <td>0.143000</td>\n",
       "      <td>0.111000</td>\n",
       "      <td>0.000000</td>\n",
       "      <td>0.000000</td>\n",
       "    </tr>\n",
       "    <tr>\n",
       "      <th>50%</th>\n",
       "      <td>0.333000</td>\n",
       "      <td>0.333000</td>\n",
       "      <td>0.333000</td>\n",
       "      <td>0.364000</td>\n",
       "      <td>0.000000</td>\n",
       "      <td>0.000000</td>\n",
       "    </tr>\n",
       "    <tr>\n",
       "      <th>75%</th>\n",
       "      <td>0.556000</td>\n",
       "      <td>0.538000</td>\n",
       "      <td>0.625000</td>\n",
       "      <td>0.571000</td>\n",
       "      <td>0.000000</td>\n",
       "      <td>0.000000</td>\n",
       "    </tr>\n",
       "    <tr>\n",
       "      <th>max</th>\n",
       "      <td>1.000000</td>\n",
       "      <td>1.000000</td>\n",
       "      <td>1.000000</td>\n",
       "      <td>1.000000</td>\n",
       "      <td>0.357000</td>\n",
       "      <td>0.357000</td>\n",
       "    </tr>\n",
       "  </tbody>\n",
       "</table>\n",
       "</div>"
      ],
      "text/plain": [
       "         t5.bleu1  bart.bleu1   t5.rouge1  bart.rouge1   t5.meteor  \\\n",
       "count  197.000000  197.000000  197.000000   197.000000  197.000000   \n",
       "mean     0.405553    0.375853    0.407792     0.372051    0.057000   \n",
       "std      0.252561    0.262783    0.282152     0.292173    0.104848   \n",
       "min      0.000000    0.000000    0.000000     0.000000    0.000000   \n",
       "25%      0.202000    0.111000    0.143000     0.111000    0.000000   \n",
       "50%      0.333000    0.333000    0.333000     0.364000    0.000000   \n",
       "75%      0.556000    0.538000    0.625000     0.571000    0.000000   \n",
       "max      1.000000    1.000000    1.000000     1.000000    0.357000   \n",
       "\n",
       "       bart.meteor  \n",
       "count   197.000000  \n",
       "mean      0.055244  \n",
       "std       0.102978  \n",
       "min       0.000000  \n",
       "25%       0.000000  \n",
       "50%       0.000000  \n",
       "75%       0.000000  \n",
       "max       0.357000  "
      ]
     },
     "execution_count": 27,
     "metadata": {},
     "output_type": "execute_result"
    }
   ],
   "source": [
    "compare=pd.concat([t5.bleu1, bart.bleu1,\n",
    "                   t5.rouge1,bart.rouge1,\n",
    "                   t5.meteor,bart.meteor],axis=1)\n",
    "compare.columns=['t5.bleu1','bart.bleu1','t5.rouge1','bart.rouge1','t5.meteor','bart.meteor']\n",
    "compare.describe()"
   ]
  },
  {
   "cell_type": "markdown",
   "metadata": {},
   "source": [
    "# compare before fine tune and after fine tune"
   ]
  },
  {
   "cell_type": "markdown",
   "metadata": {},
   "source": [
    "## compare on bleu"
   ]
  },
  {
   "cell_type": "code",
   "execution_count": 28,
   "metadata": {
    "scrolled": false
   },
   "outputs": [
    {
     "data": {
      "text/html": [
       "<div>\n",
       "<style scoped>\n",
       "    .dataframe tbody tr th:only-of-type {\n",
       "        vertical-align: middle;\n",
       "    }\n",
       "\n",
       "    .dataframe tbody tr th {\n",
       "        vertical-align: top;\n",
       "    }\n",
       "\n",
       "    .dataframe thead th {\n",
       "        text-align: right;\n",
       "    }\n",
       "</style>\n",
       "<table border=\"1\" class=\"dataframe\">\n",
       "  <thead>\n",
       "    <tr style=\"text-align: right;\">\n",
       "      <th></th>\n",
       "      <th>t5_before</th>\n",
       "      <th>t5_tune</th>\n",
       "      <th>bart_before</th>\n",
       "      <th>bart_tune</th>\n",
       "    </tr>\n",
       "  </thead>\n",
       "  <tbody>\n",
       "    <tr>\n",
       "      <th>count</th>\n",
       "      <td>197.000000</td>\n",
       "      <td>197.000000</td>\n",
       "      <td>197.000000</td>\n",
       "      <td>197.000000</td>\n",
       "    </tr>\n",
       "    <tr>\n",
       "      <th>mean</th>\n",
       "      <td>0.282843</td>\n",
       "      <td>0.405553</td>\n",
       "      <td>0.305843</td>\n",
       "      <td>0.375853</td>\n",
       "    </tr>\n",
       "    <tr>\n",
       "      <th>std</th>\n",
       "      <td>0.186956</td>\n",
       "      <td>0.252561</td>\n",
       "      <td>0.198927</td>\n",
       "      <td>0.262783</td>\n",
       "    </tr>\n",
       "    <tr>\n",
       "      <th>min</th>\n",
       "      <td>0.000000</td>\n",
       "      <td>0.000000</td>\n",
       "      <td>0.000000</td>\n",
       "      <td>0.000000</td>\n",
       "    </tr>\n",
       "    <tr>\n",
       "      <th>25%</th>\n",
       "      <td>0.125000</td>\n",
       "      <td>0.202000</td>\n",
       "      <td>0.195000</td>\n",
       "      <td>0.111000</td>\n",
       "    </tr>\n",
       "    <tr>\n",
       "      <th>50%</th>\n",
       "      <td>0.333000</td>\n",
       "      <td>0.333000</td>\n",
       "      <td>0.222000</td>\n",
       "      <td>0.333000</td>\n",
       "    </tr>\n",
       "    <tr>\n",
       "      <th>75%</th>\n",
       "      <td>0.353000</td>\n",
       "      <td>0.556000</td>\n",
       "      <td>0.400000</td>\n",
       "      <td>0.538000</td>\n",
       "    </tr>\n",
       "    <tr>\n",
       "      <th>max</th>\n",
       "      <td>0.800000</td>\n",
       "      <td>1.000000</td>\n",
       "      <td>1.000000</td>\n",
       "      <td>1.000000</td>\n",
       "    </tr>\n",
       "  </tbody>\n",
       "</table>\n",
       "</div>"
      ],
      "text/plain": [
       "        t5_before     t5_tune  bart_before   bart_tune\n",
       "count  197.000000  197.000000   197.000000  197.000000\n",
       "mean     0.282843    0.405553     0.305843    0.375853\n",
       "std      0.186956    0.252561     0.198927    0.262783\n",
       "min      0.000000    0.000000     0.000000    0.000000\n",
       "25%      0.125000    0.202000     0.195000    0.111000\n",
       "50%      0.333000    0.333000     0.222000    0.333000\n",
       "75%      0.353000    0.556000     0.400000    0.538000\n",
       "max      0.800000    1.000000     1.000000    1.000000"
      ]
     },
     "execution_count": 28,
     "metadata": {},
     "output_type": "execute_result"
    }
   ],
   "source": [
    "bleu_compare=pd.concat([t5_before.bleu1,t5.bleu1,bart_before.bleu1,bart.bleu1],axis=1)\n",
    "bleu_compare.columns=['t5_before','t5_tune','bart_before','bart_tune']\n",
    "bleu_compare.describe()"
   ]
  },
  {
   "cell_type": "markdown",
   "metadata": {},
   "source": [
    "## compare on rouge"
   ]
  },
  {
   "cell_type": "code",
   "execution_count": 29,
   "metadata": {},
   "outputs": [
    {
     "data": {
      "text/html": [
       "<div>\n",
       "<style scoped>\n",
       "    .dataframe tbody tr th:only-of-type {\n",
       "        vertical-align: middle;\n",
       "    }\n",
       "\n",
       "    .dataframe tbody tr th {\n",
       "        vertical-align: top;\n",
       "    }\n",
       "\n",
       "    .dataframe thead th {\n",
       "        text-align: right;\n",
       "    }\n",
       "</style>\n",
       "<table border=\"1\" class=\"dataframe\">\n",
       "  <thead>\n",
       "    <tr style=\"text-align: right;\">\n",
       "      <th></th>\n",
       "      <th>t5_before</th>\n",
       "      <th>t5_tune</th>\n",
       "      <th>bart_before</th>\n",
       "      <th>bart_tune</th>\n",
       "    </tr>\n",
       "  </thead>\n",
       "  <tbody>\n",
       "    <tr>\n",
       "      <th>count</th>\n",
       "      <td>197.000000</td>\n",
       "      <td>197.000000</td>\n",
       "      <td>197.000000</td>\n",
       "      <td>197.000000</td>\n",
       "    </tr>\n",
       "    <tr>\n",
       "      <th>mean</th>\n",
       "      <td>0.254970</td>\n",
       "      <td>0.407792</td>\n",
       "      <td>0.315147</td>\n",
       "      <td>0.372051</td>\n",
       "    </tr>\n",
       "    <tr>\n",
       "      <th>std</th>\n",
       "      <td>0.202548</td>\n",
       "      <td>0.282152</td>\n",
       "      <td>0.228583</td>\n",
       "      <td>0.292173</td>\n",
       "    </tr>\n",
       "    <tr>\n",
       "      <th>min</th>\n",
       "      <td>0.000000</td>\n",
       "      <td>0.000000</td>\n",
       "      <td>0.000000</td>\n",
       "      <td>0.000000</td>\n",
       "    </tr>\n",
       "    <tr>\n",
       "      <th>25%</th>\n",
       "      <td>0.125000</td>\n",
       "      <td>0.143000</td>\n",
       "      <td>0.143000</td>\n",
       "      <td>0.111000</td>\n",
       "    </tr>\n",
       "    <tr>\n",
       "      <th>50%</th>\n",
       "      <td>0.200000</td>\n",
       "      <td>0.333000</td>\n",
       "      <td>0.250000</td>\n",
       "      <td>0.364000</td>\n",
       "    </tr>\n",
       "    <tr>\n",
       "      <th>75%</th>\n",
       "      <td>0.375000</td>\n",
       "      <td>0.625000</td>\n",
       "      <td>0.444000</td>\n",
       "      <td>0.571000</td>\n",
       "    </tr>\n",
       "    <tr>\n",
       "      <th>max</th>\n",
       "      <td>0.889000</td>\n",
       "      <td>1.000000</td>\n",
       "      <td>1.000000</td>\n",
       "      <td>1.000000</td>\n",
       "    </tr>\n",
       "  </tbody>\n",
       "</table>\n",
       "</div>"
      ],
      "text/plain": [
       "        t5_before     t5_tune  bart_before   bart_tune\n",
       "count  197.000000  197.000000   197.000000  197.000000\n",
       "mean     0.254970    0.407792     0.315147    0.372051\n",
       "std      0.202548    0.282152     0.228583    0.292173\n",
       "min      0.000000    0.000000     0.000000    0.000000\n",
       "25%      0.125000    0.143000     0.143000    0.111000\n",
       "50%      0.200000    0.333000     0.250000    0.364000\n",
       "75%      0.375000    0.625000     0.444000    0.571000\n",
       "max      0.889000    1.000000     1.000000    1.000000"
      ]
     },
     "execution_count": 29,
     "metadata": {},
     "output_type": "execute_result"
    }
   ],
   "source": [
    "rouge_compare=pd.concat([t5_before.rouge1,t5.rouge1,bart_before.rouge1,bart.rouge1],axis=1)\n",
    "rouge_compare.columns=['t5_before','t5_tune','bart_before','bart_tune']\n",
    "rouge_compare.describe()"
   ]
  },
  {
   "cell_type": "markdown",
   "metadata": {},
   "source": [
    "## compare on meteor"
   ]
  },
  {
   "cell_type": "code",
   "execution_count": 30,
   "metadata": {
    "scrolled": true
   },
   "outputs": [
    {
     "data": {
      "text/html": [
       "<div>\n",
       "<style scoped>\n",
       "    .dataframe tbody tr th:only-of-type {\n",
       "        vertical-align: middle;\n",
       "    }\n",
       "\n",
       "    .dataframe tbody tr th {\n",
       "        vertical-align: top;\n",
       "    }\n",
       "\n",
       "    .dataframe thead th {\n",
       "        text-align: right;\n",
       "    }\n",
       "</style>\n",
       "<table border=\"1\" class=\"dataframe\">\n",
       "  <thead>\n",
       "    <tr style=\"text-align: right;\">\n",
       "      <th></th>\n",
       "      <th>t5_before</th>\n",
       "      <th>t5_tune</th>\n",
       "      <th>bart_before</th>\n",
       "      <th>bart_tune</th>\n",
       "    </tr>\n",
       "  </thead>\n",
       "  <tbody>\n",
       "    <tr>\n",
       "      <th>count</th>\n",
       "      <td>197.000000</td>\n",
       "      <td>197.000000</td>\n",
       "      <td>197.000000</td>\n",
       "      <td>197.000000</td>\n",
       "    </tr>\n",
       "    <tr>\n",
       "      <th>mean</th>\n",
       "      <td>0.055772</td>\n",
       "      <td>0.057000</td>\n",
       "      <td>0.056959</td>\n",
       "      <td>0.055244</td>\n",
       "    </tr>\n",
       "    <tr>\n",
       "      <th>std</th>\n",
       "      <td>0.104019</td>\n",
       "      <td>0.104848</td>\n",
       "      <td>0.104791</td>\n",
       "      <td>0.102978</td>\n",
       "    </tr>\n",
       "    <tr>\n",
       "      <th>min</th>\n",
       "      <td>0.000000</td>\n",
       "      <td>0.000000</td>\n",
       "      <td>0.000000</td>\n",
       "      <td>0.000000</td>\n",
       "    </tr>\n",
       "    <tr>\n",
       "      <th>25%</th>\n",
       "      <td>0.000000</td>\n",
       "      <td>0.000000</td>\n",
       "      <td>0.000000</td>\n",
       "      <td>0.000000</td>\n",
       "    </tr>\n",
       "    <tr>\n",
       "      <th>50%</th>\n",
       "      <td>0.000000</td>\n",
       "      <td>0.000000</td>\n",
       "      <td>0.000000</td>\n",
       "      <td>0.000000</td>\n",
       "    </tr>\n",
       "    <tr>\n",
       "      <th>75%</th>\n",
       "      <td>0.000000</td>\n",
       "      <td>0.000000</td>\n",
       "      <td>0.000000</td>\n",
       "      <td>0.000000</td>\n",
       "    </tr>\n",
       "    <tr>\n",
       "      <th>max</th>\n",
       "      <td>0.357000</td>\n",
       "      <td>0.357000</td>\n",
       "      <td>0.357000</td>\n",
       "      <td>0.357000</td>\n",
       "    </tr>\n",
       "  </tbody>\n",
       "</table>\n",
       "</div>"
      ],
      "text/plain": [
       "        t5_before     t5_tune  bart_before   bart_tune\n",
       "count  197.000000  197.000000   197.000000  197.000000\n",
       "mean     0.055772    0.057000     0.056959    0.055244\n",
       "std      0.104019    0.104848     0.104791    0.102978\n",
       "min      0.000000    0.000000     0.000000    0.000000\n",
       "25%      0.000000    0.000000     0.000000    0.000000\n",
       "50%      0.000000    0.000000     0.000000    0.000000\n",
       "75%      0.000000    0.000000     0.000000    0.000000\n",
       "max      0.357000    0.357000     0.357000    0.357000"
      ]
     },
     "execution_count": 30,
     "metadata": {},
     "output_type": "execute_result"
    }
   ],
   "source": [
    "meteor_compare=pd.concat([t5_before.meteor,t5.meteor,bart_before.meteor,bart.meteor],axis=1)\n",
    "meteor_compare.columns=['t5_before','t5_tune','bart_before','bart_tune']\n",
    "meteor_compare.describe()"
   ]
  },
  {
   "cell_type": "code",
   "execution_count": null,
   "metadata": {},
   "outputs": [],
   "source": []
  },
  {
   "cell_type": "code",
   "execution_count": null,
   "metadata": {},
   "outputs": [],
   "source": [
    "t5"
   ]
  },
  {
   "cell_type": "markdown",
   "metadata": {},
   "source": [
    "# types of questions"
   ]
  },
  {
   "cell_type": "code",
   "execution_count": 31,
   "metadata": {},
   "outputs": [],
   "source": [
    "join=pd.merge(bart,t5,how='left',on=['context'])\n",
    "\n",
    "join[\"first_word\"]=join[\"questions_original_x\"].apply(lambda x: nltk.word_tokenize(str(x))[0]) #分词\n"
   ]
  },
  {
   "cell_type": "code",
   "execution_count": 159,
   "metadata": {},
   "outputs": [
    {
     "data": {
      "image/png": "[encoded data removed]",
      "text/plain": [
       "<Figure size 432x288 with 1 Axes>"
      ]
     },
     "metadata": {
      "needs_background": "light"
     },
     "output_type": "display_data"
    }
   ],
   "source": [
    "ax=join.loc[join.bleu1_x>join.bleu1_y,\"first_word\"].value_counts()[0:10].plot(kind='bar', color='lightblue')\n",
    "plt.title('bart win')\n",
    "plt.xlabel(\"firt word\")\n",
    "plt.ylabel(\"count\")\n",
    "for p in ax.patches:\n",
    "    height = p.get_height()\n",
    "    total = 4410\n",
    "    ax.text(p.get_x() + p.get_width()/2., height + 20, '{0:.0%}'.format(height/total), ha=\"center\")"
   ]
  },
  {
   "cell_type": "code",
   "execution_count": 164,
   "metadata": {},
   "outputs": [
    {
     "data": {
      "image/png": "[encoded data removed]",
      "text/plain": [
       "<Figure size 432x288 with 1 Axes>"
      ]
     },
     "metadata": {
      "needs_background": "light"
     },
     "output_type": "display_data"
    }
   ],
   "source": [
    "ax=join.loc[join.bleu1_x<join.bleu1_y,\"first_word\"].value_counts()[0:10].plot(kind='bar', color='lightblue')\n",
    "plt.title('t5 win')\n",
    "plt.xlabel(\"firt word\")\n",
    "plt.ylabel(\"count\")\n",
    "for p in ax.patches:\n",
    "    height = p.get_height()\n",
    "    total = 4410\n",
    "    ax.text(p.get_x() + p.get_width()/2., height + 20, '{0:.0%}'.format(height/total), ha=\"center\")"
   ]
  },
  {
   "cell_type": "code",
   "execution_count": 50,
   "metadata": {
    "scrolled": true
   },
   "outputs": [
    {
     "data": {
      "text/plain": [
       "153"
      ]
     },
     "execution_count": 50,
     "metadata": {},
     "output_type": "execute_result"
    }
   ],
   "source": [
    "t=t5.drop_duplicates(\"context\")\n",
    "b=bart.drop_duplicates(\"context\")\n",
    "join=pd.merge(b,t,how='left',on=['context'])\n",
    "len(join)"
   ]
  },
  {
   "cell_type": "markdown",
   "metadata": {},
   "source": [
    "# length of context"
   ]
  },
  {
   "cell_type": "code",
   "execution_count": 77,
   "metadata": {},
   "outputs": [],
   "source": [
    "bin_i = pd.qcut(join[\"context_len_x\"], q = 50,duplicates=\"drop\")\n",
    "bleu_score=join[\"bleu1_x\"]\n",
    "len_bleu=pd.concat([bin_i,bleu_score],axis = 1)\n",
    "mean=len_bleu.groupby([\"context_len_x\"]).mean()\n",
    "\n",
    "\n",
    "bleu_score=join[\"bleu1_y\"]\n",
    "len_bleu=pd.concat([bin_i,bleu_score],axis = 1)\n",
    "mean1=len_bleu.groupby([\"context_len_x\"]).mean()\n",
    "\n",
    "both=pd.concat([mean,mean1],axis = 1)\n"
   ]
  },
  {
   "cell_type": "code",
   "execution_count": 78,
   "metadata": {
    "scrolled": false
   },
   "outputs": [
    {
     "name": "stderr",
     "output_type": "stream",
     "text": [
      "/opt/anaconda/envs/Python3/lib/python3.8/site-packages/matplotlib/axes/_base.py:405: FutureWarning: Support for multi-dimensional indexing (e.g. `obj[:, None]`) is deprecated and will be removed in a future version.  Convert to a numpy array before indexing instead.\n",
      "  x = x[:, np.newaxis]\n"
     ]
    },
    {
     "data": {
      "text/plain": [
       "<matplotlib.legend.Legend at 0x7fa1e2334850>"
      ]
     },
     "execution_count": 78,
     "metadata": {},
     "output_type": "execute_result"
    },
    {
     "data": {
      "image/png": "[encoded data removed]",
      "text/plain": [
       "<Figure size 432x288 with 1 Axes>"
      ]
     },
     "metadata": {
      "needs_background": "light"
     },
     "output_type": "display_data"
    }
   ],
   "source": [
    "import matplotlib.pyplot as plt\n",
    "plt.plot(both[\"bleu1_x\"],label=\"bart\")\n",
    "plt.plot(both[\"bleu1_y\"],label=\"t5\")\n",
    "# plt.title('bart win')\n",
    "plt.xlabel(\"context length bins\")\n",
    "plt.ylabel(\"BLEU1\")\n",
    "plt.legend()"
   ]
  },
  {
   "cell_type": "code",
   "execution_count": 80,
   "metadata": {},
   "outputs": [],
   "source": [
    "join[\"first_word\"]=join[\"questions_original_x\"].apply(lambda x: nltk.word_tokenize(str(x))[0]) #分词"
   ]
  },
  {
   "cell_type": "code",
   "execution_count": 81,
   "metadata": {
    "scrolled": true
   },
   "outputs": [],
   "source": [
    "join[\"first_word_en\"]=join[\"first_word\"].apply(lambda x: x.isalpha())"
   ]
  },
  {
   "cell_type": "code",
   "execution_count": 82,
   "metadata": {
    "scrolled": true
   },
   "outputs": [
    {
     "data": {
      "text/plain": [
       "True"
      ]
     },
     "execution_count": 82,
     "metadata": {},
     "output_type": "execute_result"
    }
   ],
   "source": [
    "join.loc[0,\"first_word_en\"] == True"
   ]
  },
  {
   "cell_type": "code",
   "execution_count": 83,
   "metadata": {
    "scrolled": true
   },
   "outputs": [],
   "source": [
    "first_word_bart=join.loc[join.first_word_en == True,:].groupby([\"first_word\"])[\"bleu1_x\"].mean()\n",
    "first_word_t5=join.loc[join.first_word_en == True,:].groupby([\"first_word\"])[\"bleu1_y\"].mean()\n",
    "first_word_score=pd.concat([first_word_bart,first_word_t5],axis=1)\n",
    "\n",
    "# plt.plot(first_word_score.iloc[0:10,:])"
   ]
  },
  {
   "cell_type": "code",
   "execution_count": 91,
   "metadata": {
    "scrolled": true
   },
   "outputs": [],
   "source": [
    "first_word_score.reset_index(inplace=True)"
   ]
  },
  {
   "cell_type": "code",
   "execution_count": 93,
   "metadata": {},
   "outputs": [],
   "source": [
    "first_word_score[\"first_word\"]=first_word_score[\"first_word\"].apply(lambda x: x.lower())"
   ]
  },
  {
   "cell_type": "code",
   "execution_count": 104,
   "metadata": {
    "scrolled": false
   },
   "outputs": [],
   "source": [
    "rank=first_word_score[first_word_score['first_word'].isin([\"what\",\"when\",\"who\",\"where\",\"why\",\"how\" ])\n",
    "                ].sort_values(by=[\"bleu1_x\"],ascending=False)"
   ]
  },
  {
   "cell_type": "code",
   "execution_count": 105,
   "metadata": {},
   "outputs": [],
   "source": [
    "rank.columns=['first_word',\"bart\",'t5']"
   ]
  },
  {
   "cell_type": "code",
   "execution_count": 106,
   "metadata": {},
   "outputs": [
    {
     "data": {
      "text/html": [
       "<div>\n",
       "<style scoped>\n",
       "    .dataframe tbody tr th:only-of-type {\n",
       "        vertical-align: middle;\n",
       "    }\n",
       "\n",
       "    .dataframe tbody tr th {\n",
       "        vertical-align: top;\n",
       "    }\n",
       "\n",
       "    .dataframe thead th {\n",
       "        text-align: right;\n",
       "    }\n",
       "</style>\n",
       "<table border=\"1\" class=\"dataframe\">\n",
       "  <thead>\n",
       "    <tr style=\"text-align: right;\">\n",
       "      <th></th>\n",
       "      <th>first_word</th>\n",
       "      <th>bart</th>\n",
       "      <th>t5</th>\n",
       "    </tr>\n",
       "  </thead>\n",
       "  <tbody>\n",
       "    <tr>\n",
       "      <th>12</th>\n",
       "      <td>where</td>\n",
       "      <td>0.518667</td>\n",
       "      <td>0.281500</td>\n",
       "    </tr>\n",
       "    <tr>\n",
       "      <th>10</th>\n",
       "      <td>what</td>\n",
       "      <td>0.441946</td>\n",
       "      <td>0.450589</td>\n",
       "    </tr>\n",
       "    <tr>\n",
       "      <th>5</th>\n",
       "      <td>how</td>\n",
       "      <td>0.411756</td>\n",
       "      <td>0.400098</td>\n",
       "    </tr>\n",
       "    <tr>\n",
       "      <th>11</th>\n",
       "      <td>when</td>\n",
       "      <td>0.377000</td>\n",
       "      <td>0.274000</td>\n",
       "    </tr>\n",
       "    <tr>\n",
       "      <th>14</th>\n",
       "      <td>who</td>\n",
       "      <td>0.303000</td>\n",
       "      <td>0.515500</td>\n",
       "    </tr>\n",
       "  </tbody>\n",
       "</table>\n",
       "</div>"
      ],
      "text/plain": [
       "   first_word      bart        t5\n",
       "12      where  0.518667  0.281500\n",
       "10       what  0.441946  0.450589\n",
       "5         how  0.411756  0.400098\n",
       "11       when  0.377000  0.274000\n",
       "14        who  0.303000  0.515500"
      ]
     },
     "execution_count": 106,
     "metadata": {},
     "output_type": "execute_result"
    }
   ],
   "source": [
    "rank"
   ]
  },
  {
   "cell_type": "code",
   "execution_count": 103,
   "metadata": {},
   "outputs": [],
   "source": [
    "join.to_csv(\"result/join_final.csv\",encoding='utf-8-sig')"
   ]
  },
  {
   "cell_type": "code",
   "execution_count": null,
   "metadata": {},
   "outputs": [],
   "source": []
  },
  {
   "cell_type": "code",
   "execution_count": null,
   "metadata": {},
   "outputs": [],
   "source": []
  },
  {
   "cell_type": "code",
   "execution_count": null,
   "metadata": {},
   "outputs": [],
   "source": []
  },
  {
   "cell_type": "code",
   "execution_count": null,
   "metadata": {},
   "outputs": [],
   "source": []
  },
  {
   "cell_type": "code",
   "execution_count": null,
   "metadata": {},
   "outputs": [],
   "source": []
  }
 ],
 "metadata": {
  "kernelspec": {
   "display_name": "Python [conda env:Python3] *",
   "language": "python",
   "name": "conda-env-Python3-py"
  },
  "language_info": {
   "codemirror_mode": {
    "name": "ipython",
    "version": 3
   },
   "file_extension": ".py",
   "mimetype": "text/x-python",
   "name": "python",
   "nbconvert_exporter": "python",
   "pygments_lexer": "ipython3",
   "version": "3.8.2"
  }
 },
 "nbformat": 4,
 "nbformat_minor": 2
}
