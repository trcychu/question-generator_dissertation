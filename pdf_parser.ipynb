{
 "cells": [
  {
   "cell_type": "code",
   "execution_count": 6,
   "metadata": {},
   "outputs": [],
   "source": [
    "import fitz  # this is pymupdf\n",
    "from operator import itemgetter"
   ]
  },
  {
   "cell_type": "code",
   "execution_count": 49,
   "metadata": {},
   "outputs": [],
   "source": [
    "def pdf_text_split(pdf,file_name): # pdf is the name of the pdf file, file_name is the location that the .txt file to be save\n",
    "    \n",
    "    doc=fitz.open(pdf)\n",
    "    df=pd.DataFrame(columns={\"context\"})\n",
    "    num=0\n",
    "    for i in range(1,len(doc)): # page 1 is usually the cover page\n",
    "        blocks = doc[i].getText(\"dict\")[\"blocks\"] # page text\n",
    "        for j in range(0,len(doc[i].get_text(\"blocks\")[:-1])): # for every block in one page\n",
    "            text=doc[i].get_text(\"blocks\")[:-1][j][4].replace(\"\\n\",\"\")\n",
    "            df.loc[num,\"context\"]=text\n",
    "            num=num+1\n",
    "        df=df.drop_duplicates(\"context\")\n",
    "    df.to_csv(\"pdf_text/\"+file_name+\".csv\",encoding='utf-8-sig')"
   ]
  },
  {
   "cell_type": "code",
   "execution_count": 60,
   "metadata": {
    "scrolled": true
   },
   "outputs": [],
   "source": [
    "# AD\n",
    "pdf_text_split(\"Amplifi_Dataset_BankContracts/BARCLAYS/BARCLAYCARD-terms-and-conditions.pdf\",\"BARCLAYCARD-terms-and-conditions\")\n",
    "# ALANSA\n",
    "pdf_text_split(\"Amplifi_Dataset_BankContracts/BARCLAYS/barclays-tariff-for-personal-customers.pdf\",\"222\") \n",
    "# cup\n",
    "pdf_text_split(\"Amplifi_Dataset_BankContracts/BARCLAYS/BARCLARYS.pdf\",\"BARCLARYS\")"
   ]
  },
  {
   "cell_type": "code",
   "execution_count": null,
   "metadata": {},
   "outputs": [],
   "source": [
    "# mirra and someone\n",
    "pdf_text_split(\"Amplifi_Dataset_BankContracts/HSBC/HSBC_Credit_Card_Terms_and_ConditionsOct2018.pdf\",\"HSBC\")"
   ]
  },
  {
   "cell_type": "code",
   "execution_count": 55,
   "metadata": {},
   "outputs": [],
   "source": [
    "# cloud\n",
    "pdf_text_split(\"Amplifi_Dataset_BankContracts/LLOYDS/Business Credit Card .pdf\",\"Business Credit Card\")\n",
    "# highschool\n",
    "pdf_text_split(\"Amplifi_Dataset_BankContracts/LLOYDS/Commercial Banking.pdf\",\"Commercial Banking\")\n",
    "# ALANSA\n",
    "pdf_text_split(\"Amplifi_Dataset_BankContracts/LLOYDS/Phonebank for Business.pdf\",\"Phonebank for Business\")\n",
    "#highschool\n",
    "pdf_text_split(\"Amplifi_Dataset_BankContracts/LLOYDS/personal_banking_terms_and_conditions.pdf\",\"personal_banking_terms_and_conditions\")\n"
   ]
  },
  {
   "cell_type": "code",
   "execution_count": 57,
   "metadata": {},
   "outputs": [],
   "source": [
    "# WINGS\n",
    "pdf_text_split(\"Amplifi_Dataset_BankContracts/METRO/METRO BANK-personal-credit-card---ts-and-cs.pdf\",\"METRO BANK-personal-credit-card---ts-and-cs\")"
   ]
  },
  {
   "cell_type": "code",
   "execution_count": 64,
   "metadata": {},
   "outputs": [],
   "source": [
    "# JESSY\n",
    "pdf_text_split(\"Amplifi_Dataset_BankContracts/NATWEST/NWB-3-in-1-Terms.pdf\",\"NWB-3-in-1-Terms\")"
   ]
  },
  {
   "cell_type": "code",
   "execution_count": 65,
   "metadata": {},
   "outputs": [],
   "source": [
    "# \n",
    "pdf_text_split(\"Amplifi_Dataset_BankContracts/RBS-NATIONWIDE/NATIONWIDE-credit-card-terms-conditions.pdf\",\"NATIONWIDE-credit-card-terms-conditions\")\n",
    "#800\n",
    "pdf_text_split(\"Amplifi_Dataset_BankContracts/RBS-NATIONWIDE/RBS-reward-credit-card-sampleagreement.pdf\",\"RBS-reward-credit-card-sampleagreement\")\n"
   ]
  },
  {
   "cell_type": "code",
   "execution_count": 66,
   "metadata": {},
   "outputs": [],
   "source": [
    "pdf_text_split(\"Amplifi_Dataset_BankContracts/RBS-NATIONWIDE/NATIONWIDE-credit-card-terms-conditions.pdf\",\"NATIONWIDE-credit-card-terms-conditions\")"
   ]
  },
  {
   "cell_type": "code",
   "execution_count": null,
   "metadata": {},
   "outputs": [],
   "source": []
  }
 ],
 "metadata": {
  "kernelspec": {
   "display_name": "Python [conda env:Python3] *",
   "language": "python",
   "name": "conda-env-Python3-py"
  },
  "language_info": {
   "codemirror_mode": {
    "name": "ipython",
    "version": 3
   },
   "file_extension": ".py",
   "mimetype": "text/x-python",
   "name": "python",
   "nbconvert_exporter": "python",
   "pygments_lexer": "ipython3",
   "version": "3.8.2"
  }
 },
 "nbformat": 4,
 "nbformat_minor": 2
}
